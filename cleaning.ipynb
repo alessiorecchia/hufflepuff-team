{
 "metadata": {
  "language_info": {
   "codemirror_mode": {
    "name": "ipython",
    "version": 3
   },
   "file_extension": ".py",
   "mimetype": "text/x-python",
   "name": "python",
   "nbconvert_exporter": "python",
   "pygments_lexer": "ipython3",
   "version": "3.8.8-final"
  },
  "orig_nbformat": 2,
  "kernelspec": {
   "name": "python388jvsc74a57bd036d735e4d74651b5843b8bf8671694cee2df4263d27e1ed8e6896ce3326ae1ff",
   "display_name": "Python 3.8.8 64-bit ('Strive': conda)"
  },
  "metadata": {
   "interpreter": {
    "hash": "36d735e4d74651b5843b8bf8671694cee2df4263d27e1ed8e6896ce3326ae1ff"
   }
  }
 },
 "nbformat": 4,
 "nbformat_minor": 2,
 "cells": [
  {
   "cell_type": "code",
   "execution_count": 22,
   "metadata": {},
   "outputs": [],
   "source": [
    "import pandas as pd\n",
    "\n",
    "df = pd.read_csv('./100_rows.csv', index_col=0)\n",
    "names = {'0': 'url', '1': 'title', '2': 'author', '3': 'reviews', '4': 'rating', '5': 'pages', '6': 'year', '7': 'places', '8': 'series', '9': 'awards', '10': 'genres'}\n",
    "\n",
    "df.rename(columns=names, inplace=True)\n",
    "df['reviews'] = df['reviews'].str.replace('reviews', '').str.replace(',', '')\n",
    "df['reviews'] = df['reviews'].astype(int)\n",
    "\n",
    "df.to_csv('example.csv')"
   ]
  },
  {
   "cell_type": "code",
   "execution_count": null,
   "metadata": {},
   "outputs": [],
   "source": []
  }
 ]
}